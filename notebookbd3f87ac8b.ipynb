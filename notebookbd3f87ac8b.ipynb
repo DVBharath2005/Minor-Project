{
  "metadata": {
    "kernelspec": {
      "language": "python",
      "display_name": "Python 3",
      "name": "python3"
    },
    "language_info": {
      "pygments_lexer": "ipython3",
      "nbconvert_exporter": "python",
      "version": "3.6.4",
      "file_extension": ".py",
      "codemirror_mode": {
        "name": "ipython",
        "version": 3
      },
      "name": "python",
      "mimetype": "text/x-python"
    },
    "kaggle": {
      "accelerator": "none",
      "dataSources": [
        {
          "sourceId": 2639,
          "sourceType": "datasetVersion",
          "datasetId": 1474
        }
      ],
      "dockerImageVersionId": 30260,
      "isInternetEnabled": false,
      "language": "python",
      "sourceType": "notebook",
      "isGpuEnabled": false
    },
    "colab": {
      "provenance": [],
      "include_colab_link": true
    }
  },
  "nbformat_minor": 0,
  "nbformat": 4,
  "cells": [
    {
      "cell_type": "markdown",
      "metadata": {
        "id": "view-in-github",
        "colab_type": "text"
      },
      "source": [
        "<a href=\"https://colab.research.google.com/github/DVBharath2005/Minor-Project/blob/main/notebookbd3f87ac8b.ipynb\" target=\"_parent\"><img src=\"https://colab.research.google.com/assets/colab-badge.svg\" alt=\"Open In Colab\"/></a>"
      ]
    },
    {
      "cell_type": "code",
      "source": [
        "# This Python 3 environment comes with many helpful analytics libraries installed\n",
        "# It is defined by the kaggle/python Docker image: https://github.com/kaggle/docker-python\n",
        "# For example, here's several helpful packages to load\n",
        "\n",
        "import numpy as np # linear algebra\n",
        "import pandas as pd # data processing, CSV file I/O (e.g. pd.read_csv)\n",
        "\n",
        "# Input data files are available in the read-only \"../input/\" directory\n",
        "# For example, running this (by clicking run or pressing Shift+Enter) will list all files under the input directory\n",
        "\n",
        "import os\n",
        "for dirname, _, filenames in os.walk('/kaggle/input'):\n",
        "    for filename in filenames:\n",
        "        print(os.path.join(dirname, filename))\n",
        "\n",
        "# You can write up to 20GB to the current directory (/kaggle/working/) that gets preserved as output when you create a version using \"Save & Run All\"\n",
        "# You can also write temporary files to /kaggle/temp/, but they won't be saved outside of the current session"
      ],
      "metadata": {
        "_uuid": "8f2839f25d086af736a60e9eeb907d3b93b6e0e5",
        "_cell_guid": "b1076dfc-b9ad-4769-8c92-a6c4dae69d19",
        "execution": {
          "iopub.status.busy": "2022-10-07T07:43:07.065027Z",
          "iopub.execute_input": "2022-10-07T07:43:07.065433Z",
          "iopub.status.idle": "2022-10-07T07:43:07.080238Z",
          "shell.execute_reply.started": "2022-10-07T07:43:07.065401Z",
          "shell.execute_reply": "2022-10-07T07:43:07.079007Z"
        },
        "trusted": true,
        "id": "flanfpy5J6pV"
      },
      "execution_count": 5,
      "outputs": []
    },
    {
      "cell_type": "markdown",
      "source": [
        "# Youtube Video Link : https://youtu.be/Asm2_qgBK48"
      ],
      "metadata": {
        "id": "pbpmX9SSJ6pb"
      }
    },
    {
      "cell_type": "code",
      "source": [
        "import warnings\n",
        "warnings.filterwarnings('ignore')"
      ],
      "metadata": {
        "execution": {
          "iopub.status.busy": "2022-10-07T07:43:08.280139Z",
          "iopub.execute_input": "2022-10-07T07:43:08.280923Z",
          "iopub.status.idle": "2022-10-07T07:43:08.285949Z",
          "shell.execute_reply.started": "2022-10-07T07:43:08.280885Z",
          "shell.execute_reply": "2022-10-07T07:43:08.284696Z"
        },
        "trusted": true,
        "id": "Y7aiZATRJ6pd"
      },
      "execution_count": 3,
      "outputs": []
    },
    {
      "cell_type": "code",
      "source": [
        "data = pd.read_csv('IMDB-Movie-Data.csv')"
      ],
      "metadata": {
        "execution": {
          "iopub.status.busy": "2022-10-07T07:43:08.545263Z",
          "iopub.execute_input": "2022-10-07T07:43:08.54596Z",
          "iopub.status.idle": "2022-10-07T07:43:08.583629Z",
          "shell.execute_reply.started": "2022-10-07T07:43:08.545924Z",
          "shell.execute_reply": "2022-10-07T07:43:08.582348Z"
        },
        "trusted": true,
        "id": "9RCTRdDxJ6pd"
      },
      "execution_count": 6,
      "outputs": []
    },
    {
      "cell_type": "markdown",
      "source": [
        "# 1. Display Top 10 Rows of The Dataset"
      ],
      "metadata": {
        "execution": {
          "iopub.status.busy": "2022-10-07T05:28:53.866112Z",
          "iopub.execute_input": "2022-10-07T05:28:53.867396Z",
          "iopub.status.idle": "2022-10-07T05:28:53.897473Z",
          "shell.execute_reply.started": "2022-10-07T05:28:53.867351Z",
          "shell.execute_reply": "2022-10-07T05:28:53.896329Z"
        },
        "id": "yMSa8iRyJ6pe"
      }
    },
    {
      "cell_type": "code",
      "source": [
        "data.head(10)"
      ],
      "metadata": {
        "execution": {
          "iopub.status.busy": "2022-10-07T07:43:08.97141Z",
          "iopub.execute_input": "2022-10-07T07:43:08.972091Z",
          "iopub.status.idle": "2022-10-07T07:43:09.011251Z",
          "shell.execute_reply.started": "2022-10-07T07:43:08.972053Z",
          "shell.execute_reply": "2022-10-07T07:43:09.009867Z"
        },
        "trusted": true,
        "colab": {
          "base_uri": "https://localhost:8080/",
          "height": 1000
        },
        "id": "Ff3uTJxdJ6pf",
        "outputId": "b4e98708-0acf-42db-e141-d9681e7d527d"
      },
      "execution_count": 7,
      "outputs": [
        {
          "output_type": "execute_result",
          "data": {
            "text/plain": [
              "   Rank                    Title                       Genre  \\\n",
              "0     1  Guardians of the Galaxy     Action,Adventure,Sci-Fi   \n",
              "1     2               Prometheus    Adventure,Mystery,Sci-Fi   \n",
              "2     3                    Split             Horror,Thriller   \n",
              "3     4                     Sing     Animation,Comedy,Family   \n",
              "4     5            Suicide Squad    Action,Adventure,Fantasy   \n",
              "5     6           The Great Wall    Action,Adventure,Fantasy   \n",
              "6     7               La La Land          Comedy,Drama,Music   \n",
              "7     8                 Mindhorn                      Comedy   \n",
              "8     9       The Lost City of Z  Action,Adventure,Biography   \n",
              "9    10               Passengers     Adventure,Drama,Romance   \n",
              "\n",
              "                                         Description              Director  \\\n",
              "0  A group of intergalactic criminals are forced ...            James Gunn   \n",
              "1  Following clues to the origin of mankind, a te...          Ridley Scott   \n",
              "2  Three girls are kidnapped by a man with a diag...    M. Night Shyamalan   \n",
              "3  In a city of humanoid animals, a hustling thea...  Christophe Lourdelet   \n",
              "4  A secret government agency recruits some of th...            David Ayer   \n",
              "5  European mercenaries searching for black powde...           Yimou Zhang   \n",
              "6  A jazz pianist falls for an aspiring actress i...       Damien Chazelle   \n",
              "7  A has-been actor best known for playing the ti...            Sean Foley   \n",
              "8  A true-life drama, centering on British explor...            James Gray   \n",
              "9  A spacecraft traveling to a distant colony pla...         Morten Tyldum   \n",
              "\n",
              "                                              Actors  Year  Runtime (Minutes)  \\\n",
              "0  Chris Pratt, Vin Diesel, Bradley Cooper, Zoe S...  2014                121   \n",
              "1  Noomi Rapace, Logan Marshall-Green, Michael Fa...  2012                124   \n",
              "2  James McAvoy, Anya Taylor-Joy, Haley Lu Richar...  2016                117   \n",
              "3  Matthew McConaughey,Reese Witherspoon, Seth Ma...  2016                108   \n",
              "4  Will Smith, Jared Leto, Margot Robbie, Viola D...  2016                123   \n",
              "5      Matt Damon, Tian Jing, Willem Dafoe, Andy Lau  2016                103   \n",
              "6  Ryan Gosling, Emma Stone, Rosemarie DeWitt, J....  2016                128   \n",
              "7  Essie Davis, Andrea Riseborough, Julian Barrat...  2016                 89   \n",
              "8  Charlie Hunnam, Robert Pattinson, Sienna Mille...  2016                141   \n",
              "9  Jennifer Lawrence, Chris Pratt, Michael Sheen,...  2016                116   \n",
              "\n",
              "   Rating   Votes  Revenue (Millions)  Metascore  \n",
              "0     8.1  757074              333.13         76  \n",
              "1     7.0  485820              126.46         65  \n",
              "2     7.3  157606              138.12         62  \n",
              "3     7.2   60545              270.32         59  \n",
              "4     6.2  393727              325.02         40  \n",
              "5     6.1   56036               45.13         42  \n",
              "6     8.3  258682              151.06         93  \n",
              "7     6.4    2490                0.00         71  \n",
              "8     7.1    7188                8.01         78  \n",
              "9     7.0  192177              100.01         41  "
            ],
            "text/html": [
              "\n",
              "  <div id=\"df-1d470633-2252-471a-9be2-a88755dd53a0\" class=\"colab-df-container\">\n",
              "    <div>\n",
              "<style scoped>\n",
              "    .dataframe tbody tr th:only-of-type {\n",
              "        vertical-align: middle;\n",
              "    }\n",
              "\n",
              "    .dataframe tbody tr th {\n",
              "        vertical-align: top;\n",
              "    }\n",
              "\n",
              "    .dataframe thead th {\n",
              "        text-align: right;\n",
              "    }\n",
              "</style>\n",
              "<table border=\"1\" class=\"dataframe\">\n",
              "  <thead>\n",
              "    <tr style=\"text-align: right;\">\n",
              "      <th></th>\n",
              "      <th>Rank</th>\n",
              "      <th>Title</th>\n",
              "      <th>Genre</th>\n",
              "      <th>Description</th>\n",
              "      <th>Director</th>\n",
              "      <th>Actors</th>\n",
              "      <th>Year</th>\n",
              "      <th>Runtime (Minutes)</th>\n",
              "      <th>Rating</th>\n",
              "      <th>Votes</th>\n",
              "      <th>Revenue (Millions)</th>\n",
              "      <th>Metascore</th>\n",
              "    </tr>\n",
              "  </thead>\n",
              "  <tbody>\n",
              "    <tr>\n",
              "      <th>0</th>\n",
              "      <td>1</td>\n",
              "      <td>Guardians of the Galaxy</td>\n",
              "      <td>Action,Adventure,Sci-Fi</td>\n",
              "      <td>A group of intergalactic criminals are forced ...</td>\n",
              "      <td>James Gunn</td>\n",
              "      <td>Chris Pratt, Vin Diesel, Bradley Cooper, Zoe S...</td>\n",
              "      <td>2014</td>\n",
              "      <td>121</td>\n",
              "      <td>8.1</td>\n",
              "      <td>757074</td>\n",
              "      <td>333.13</td>\n",
              "      <td>76</td>\n",
              "    </tr>\n",
              "    <tr>\n",
              "      <th>1</th>\n",
              "      <td>2</td>\n",
              "      <td>Prometheus</td>\n",
              "      <td>Adventure,Mystery,Sci-Fi</td>\n",
              "      <td>Following clues to the origin of mankind, a te...</td>\n",
              "      <td>Ridley Scott</td>\n",
              "      <td>Noomi Rapace, Logan Marshall-Green, Michael Fa...</td>\n",
              "      <td>2012</td>\n",
              "      <td>124</td>\n",
              "      <td>7.0</td>\n",
              "      <td>485820</td>\n",
              "      <td>126.46</td>\n",
              "      <td>65</td>\n",
              "    </tr>\n",
              "    <tr>\n",
              "      <th>2</th>\n",
              "      <td>3</td>\n",
              "      <td>Split</td>\n",
              "      <td>Horror,Thriller</td>\n",
              "      <td>Three girls are kidnapped by a man with a diag...</td>\n",
              "      <td>M. Night Shyamalan</td>\n",
              "      <td>James McAvoy, Anya Taylor-Joy, Haley Lu Richar...</td>\n",
              "      <td>2016</td>\n",
              "      <td>117</td>\n",
              "      <td>7.3</td>\n",
              "      <td>157606</td>\n",
              "      <td>138.12</td>\n",
              "      <td>62</td>\n",
              "    </tr>\n",
              "    <tr>\n",
              "      <th>3</th>\n",
              "      <td>4</td>\n",
              "      <td>Sing</td>\n",
              "      <td>Animation,Comedy,Family</td>\n",
              "      <td>In a city of humanoid animals, a hustling thea...</td>\n",
              "      <td>Christophe Lourdelet</td>\n",
              "      <td>Matthew McConaughey,Reese Witherspoon, Seth Ma...</td>\n",
              "      <td>2016</td>\n",
              "      <td>108</td>\n",
              "      <td>7.2</td>\n",
              "      <td>60545</td>\n",
              "      <td>270.32</td>\n",
              "      <td>59</td>\n",
              "    </tr>\n",
              "    <tr>\n",
              "      <th>4</th>\n",
              "      <td>5</td>\n",
              "      <td>Suicide Squad</td>\n",
              "      <td>Action,Adventure,Fantasy</td>\n",
              "      <td>A secret government agency recruits some of th...</td>\n",
              "      <td>David Ayer</td>\n",
              "      <td>Will Smith, Jared Leto, Margot Robbie, Viola D...</td>\n",
              "      <td>2016</td>\n",
              "      <td>123</td>\n",
              "      <td>6.2</td>\n",
              "      <td>393727</td>\n",
              "      <td>325.02</td>\n",
              "      <td>40</td>\n",
              "    </tr>\n",
              "    <tr>\n",
              "      <th>5</th>\n",
              "      <td>6</td>\n",
              "      <td>The Great Wall</td>\n",
              "      <td>Action,Adventure,Fantasy</td>\n",
              "      <td>European mercenaries searching for black powde...</td>\n",
              "      <td>Yimou Zhang</td>\n",
              "      <td>Matt Damon, Tian Jing, Willem Dafoe, Andy Lau</td>\n",
              "      <td>2016</td>\n",
              "      <td>103</td>\n",
              "      <td>6.1</td>\n",
              "      <td>56036</td>\n",
              "      <td>45.13</td>\n",
              "      <td>42</td>\n",
              "    </tr>\n",
              "    <tr>\n",
              "      <th>6</th>\n",
              "      <td>7</td>\n",
              "      <td>La La Land</td>\n",
              "      <td>Comedy,Drama,Music</td>\n",
              "      <td>A jazz pianist falls for an aspiring actress i...</td>\n",
              "      <td>Damien Chazelle</td>\n",
              "      <td>Ryan Gosling, Emma Stone, Rosemarie DeWitt, J....</td>\n",
              "      <td>2016</td>\n",
              "      <td>128</td>\n",
              "      <td>8.3</td>\n",
              "      <td>258682</td>\n",
              "      <td>151.06</td>\n",
              "      <td>93</td>\n",
              "    </tr>\n",
              "    <tr>\n",
              "      <th>7</th>\n",
              "      <td>8</td>\n",
              "      <td>Mindhorn</td>\n",
              "      <td>Comedy</td>\n",
              "      <td>A has-been actor best known for playing the ti...</td>\n",
              "      <td>Sean Foley</td>\n",
              "      <td>Essie Davis, Andrea Riseborough, Julian Barrat...</td>\n",
              "      <td>2016</td>\n",
              "      <td>89</td>\n",
              "      <td>6.4</td>\n",
              "      <td>2490</td>\n",
              "      <td>0.00</td>\n",
              "      <td>71</td>\n",
              "    </tr>\n",
              "    <tr>\n",
              "      <th>8</th>\n",
              "      <td>9</td>\n",
              "      <td>The Lost City of Z</td>\n",
              "      <td>Action,Adventure,Biography</td>\n",
              "      <td>A true-life drama, centering on British explor...</td>\n",
              "      <td>James Gray</td>\n",
              "      <td>Charlie Hunnam, Robert Pattinson, Sienna Mille...</td>\n",
              "      <td>2016</td>\n",
              "      <td>141</td>\n",
              "      <td>7.1</td>\n",
              "      <td>7188</td>\n",
              "      <td>8.01</td>\n",
              "      <td>78</td>\n",
              "    </tr>\n",
              "    <tr>\n",
              "      <th>9</th>\n",
              "      <td>10</td>\n",
              "      <td>Passengers</td>\n",
              "      <td>Adventure,Drama,Romance</td>\n",
              "      <td>A spacecraft traveling to a distant colony pla...</td>\n",
              "      <td>Morten Tyldum</td>\n",
              "      <td>Jennifer Lawrence, Chris Pratt, Michael Sheen,...</td>\n",
              "      <td>2016</td>\n",
              "      <td>116</td>\n",
              "      <td>7.0</td>\n",
              "      <td>192177</td>\n",
              "      <td>100.01</td>\n",
              "      <td>41</td>\n",
              "    </tr>\n",
              "  </tbody>\n",
              "</table>\n",
              "</div>\n",
              "    <div class=\"colab-df-buttons\">\n",
              "\n",
              "  <div class=\"colab-df-container\">\n",
              "    <button class=\"colab-df-convert\" onclick=\"convertToInteractive('df-1d470633-2252-471a-9be2-a88755dd53a0')\"\n",
              "            title=\"Convert this dataframe to an interactive table.\"\n",
              "            style=\"display:none;\">\n",
              "\n",
              "  <svg xmlns=\"http://www.w3.org/2000/svg\" height=\"24px\" viewBox=\"0 -960 960 960\">\n",
              "    <path d=\"M120-120v-720h720v720H120Zm60-500h600v-160H180v160Zm220 220h160v-160H400v160Zm0 220h160v-160H400v160ZM180-400h160v-160H180v160Zm440 0h160v-160H620v160ZM180-180h160v-160H180v160Zm440 0h160v-160H620v160Z\"/>\n",
              "  </svg>\n",
              "    </button>\n",
              "\n",
              "  <style>\n",
              "    .colab-df-container {\n",
              "      display:flex;\n",
              "      gap: 12px;\n",
              "    }\n",
              "\n",
              "    .colab-df-convert {\n",
              "      background-color: #E8F0FE;\n",
              "      border: none;\n",
              "      border-radius: 50%;\n",
              "      cursor: pointer;\n",
              "      display: none;\n",
              "      fill: #1967D2;\n",
              "      height: 32px;\n",
              "      padding: 0 0 0 0;\n",
              "      width: 32px;\n",
              "    }\n",
              "\n",
              "    .colab-df-convert:hover {\n",
              "      background-color: #E2EBFA;\n",
              "      box-shadow: 0px 1px 2px rgba(60, 64, 67, 0.3), 0px 1px 3px 1px rgba(60, 64, 67, 0.15);\n",
              "      fill: #174EA6;\n",
              "    }\n",
              "\n",
              "    .colab-df-buttons div {\n",
              "      margin-bottom: 4px;\n",
              "    }\n",
              "\n",
              "    [theme=dark] .colab-df-convert {\n",
              "      background-color: #3B4455;\n",
              "      fill: #D2E3FC;\n",
              "    }\n",
              "\n",
              "    [theme=dark] .colab-df-convert:hover {\n",
              "      background-color: #434B5C;\n",
              "      box-shadow: 0px 1px 3px 1px rgba(0, 0, 0, 0.15);\n",
              "      filter: drop-shadow(0px 1px 2px rgba(0, 0, 0, 0.3));\n",
              "      fill: #FFFFFF;\n",
              "    }\n",
              "  </style>\n",
              "\n",
              "    <script>\n",
              "      const buttonEl =\n",
              "        document.querySelector('#df-1d470633-2252-471a-9be2-a88755dd53a0 button.colab-df-convert');\n",
              "      buttonEl.style.display =\n",
              "        google.colab.kernel.accessAllowed ? 'block' : 'none';\n",
              "\n",
              "      async function convertToInteractive(key) {\n",
              "        const element = document.querySelector('#df-1d470633-2252-471a-9be2-a88755dd53a0');\n",
              "        const dataTable =\n",
              "          await google.colab.kernel.invokeFunction('convertToInteractive',\n",
              "                                                    [key], {});\n",
              "        if (!dataTable) return;\n",
              "\n",
              "        const docLinkHtml = 'Like what you see? Visit the ' +\n",
              "          '<a target=\"_blank\" href=https://colab.research.google.com/notebooks/data_table.ipynb>data table notebook</a>'\n",
              "          + ' to learn more about interactive tables.';\n",
              "        element.innerHTML = '';\n",
              "        dataTable['output_type'] = 'display_data';\n",
              "        await google.colab.output.renderOutput(dataTable, element);\n",
              "        const docLink = document.createElement('div');\n",
              "        docLink.innerHTML = docLinkHtml;\n",
              "        element.appendChild(docLink);\n",
              "      }\n",
              "    </script>\n",
              "  </div>\n",
              "\n",
              "\n",
              "    <div id=\"df-b261f435-1a0d-466a-bff3-7636b1c0c0fa\">\n",
              "      <button class=\"colab-df-quickchart\" onclick=\"quickchart('df-b261f435-1a0d-466a-bff3-7636b1c0c0fa')\"\n",
              "                title=\"Suggest charts\"\n",
              "                style=\"display:none;\">\n",
              "\n",
              "<svg xmlns=\"http://www.w3.org/2000/svg\" height=\"24px\"viewBox=\"0 0 24 24\"\n",
              "     width=\"24px\">\n",
              "    <g>\n",
              "        <path d=\"M19 3H5c-1.1 0-2 .9-2 2v14c0 1.1.9 2 2 2h14c1.1 0 2-.9 2-2V5c0-1.1-.9-2-2-2zM9 17H7v-7h2v7zm4 0h-2V7h2v10zm4 0h-2v-4h2v4z\"/>\n",
              "    </g>\n",
              "</svg>\n",
              "      </button>\n",
              "\n",
              "<style>\n",
              "  .colab-df-quickchart {\n",
              "      --bg-color: #E8F0FE;\n",
              "      --fill-color: #1967D2;\n",
              "      --hover-bg-color: #E2EBFA;\n",
              "      --hover-fill-color: #174EA6;\n",
              "      --disabled-fill-color: #AAA;\n",
              "      --disabled-bg-color: #DDD;\n",
              "  }\n",
              "\n",
              "  [theme=dark] .colab-df-quickchart {\n",
              "      --bg-color: #3B4455;\n",
              "      --fill-color: #D2E3FC;\n",
              "      --hover-bg-color: #434B5C;\n",
              "      --hover-fill-color: #FFFFFF;\n",
              "      --disabled-bg-color: #3B4455;\n",
              "      --disabled-fill-color: #666;\n",
              "  }\n",
              "\n",
              "  .colab-df-quickchart {\n",
              "    background-color: var(--bg-color);\n",
              "    border: none;\n",
              "    border-radius: 50%;\n",
              "    cursor: pointer;\n",
              "    display: none;\n",
              "    fill: var(--fill-color);\n",
              "    height: 32px;\n",
              "    padding: 0;\n",
              "    width: 32px;\n",
              "  }\n",
              "\n",
              "  .colab-df-quickchart:hover {\n",
              "    background-color: var(--hover-bg-color);\n",
              "    box-shadow: 0 1px 2px rgba(60, 64, 67, 0.3), 0 1px 3px 1px rgba(60, 64, 67, 0.15);\n",
              "    fill: var(--button-hover-fill-color);\n",
              "  }\n",
              "\n",
              "  .colab-df-quickchart-complete:disabled,\n",
              "  .colab-df-quickchart-complete:disabled:hover {\n",
              "    background-color: var(--disabled-bg-color);\n",
              "    fill: var(--disabled-fill-color);\n",
              "    box-shadow: none;\n",
              "  }\n",
              "\n",
              "  .colab-df-spinner {\n",
              "    border: 2px solid var(--fill-color);\n",
              "    border-color: transparent;\n",
              "    border-bottom-color: var(--fill-color);\n",
              "    animation:\n",
              "      spin 1s steps(1) infinite;\n",
              "  }\n",
              "\n",
              "  @keyframes spin {\n",
              "    0% {\n",
              "      border-color: transparent;\n",
              "      border-bottom-color: var(--fill-color);\n",
              "      border-left-color: var(--fill-color);\n",
              "    }\n",
              "    20% {\n",
              "      border-color: transparent;\n",
              "      border-left-color: var(--fill-color);\n",
              "      border-top-color: var(--fill-color);\n",
              "    }\n",
              "    30% {\n",
              "      border-color: transparent;\n",
              "      border-left-color: var(--fill-color);\n",
              "      border-top-color: var(--fill-color);\n",
              "      border-right-color: var(--fill-color);\n",
              "    }\n",
              "    40% {\n",
              "      border-color: transparent;\n",
              "      border-right-color: var(--fill-color);\n",
              "      border-top-color: var(--fill-color);\n",
              "    }\n",
              "    60% {\n",
              "      border-color: transparent;\n",
              "      border-right-color: var(--fill-color);\n",
              "    }\n",
              "    80% {\n",
              "      border-color: transparent;\n",
              "      border-right-color: var(--fill-color);\n",
              "      border-bottom-color: var(--fill-color);\n",
              "    }\n",
              "    90% {\n",
              "      border-color: transparent;\n",
              "      border-bottom-color: var(--fill-color);\n",
              "    }\n",
              "  }\n",
              "</style>\n",
              "\n",
              "      <script>\n",
              "        async function quickchart(key) {\n",
              "          const quickchartButtonEl =\n",
              "            document.querySelector('#' + key + ' button');\n",
              "          quickchartButtonEl.disabled = true;  // To prevent multiple clicks.\n",
              "          quickchartButtonEl.classList.add('colab-df-spinner');\n",
              "          try {\n",
              "            const charts = await google.colab.kernel.invokeFunction(\n",
              "                'suggestCharts', [key], {});\n",
              "          } catch (error) {\n",
              "            console.error('Error during call to suggestCharts:', error);\n",
              "          }\n",
              "          quickchartButtonEl.classList.remove('colab-df-spinner');\n",
              "          quickchartButtonEl.classList.add('colab-df-quickchart-complete');\n",
              "        }\n",
              "        (() => {\n",
              "          let quickchartButtonEl =\n",
              "            document.querySelector('#df-b261f435-1a0d-466a-bff3-7636b1c0c0fa button');\n",
              "          quickchartButtonEl.style.display =\n",
              "            google.colab.kernel.accessAllowed ? 'block' : 'none';\n",
              "        })();\n",
              "      </script>\n",
              "    </div>\n",
              "\n",
              "    </div>\n",
              "  </div>\n"
            ],
            "application/vnd.google.colaboratory.intrinsic+json": {
              "type": "dataframe",
              "variable_name": "data",
              "summary": "{\n  \"name\": \"data\",\n  \"rows\": 1000,\n  \"fields\": [\n    {\n      \"column\": \"Rank\",\n      \"properties\": {\n        \"dtype\": \"number\",\n        \"std\": 288,\n        \"min\": 1,\n        \"max\": 1000,\n        \"num_unique_values\": 1000,\n        \"samples\": [\n          522,\n          738,\n          741\n        ],\n        \"semantic_type\": \"\",\n        \"description\": \"\"\n      }\n    },\n    {\n      \"column\": \"Title\",\n      \"properties\": {\n        \"dtype\": \"string\",\n        \"num_unique_values\": 999,\n        \"samples\": [\n          \"Olympus Has Fallen\",\n          \"Man on a Ledge\",\n          \"The Girl with All the Gifts\"\n        ],\n        \"semantic_type\": \"\",\n        \"description\": \"\"\n      }\n    },\n    {\n      \"column\": \"Genre\",\n      \"properties\": {\n        \"dtype\": \"category\",\n        \"num_unique_values\": 207,\n        \"samples\": [\n          \"Mystery,Romance,Sci-Fi\",\n          \"Drama,Mystery,Sci-Fi\",\n          \"Drama,Mystery,Romance\"\n        ],\n        \"semantic_type\": \"\",\n        \"description\": \"\"\n      }\n    },\n    {\n      \"column\": \"Description\",\n      \"properties\": {\n        \"dtype\": \"string\",\n        \"num_unique_values\": 1000,\n        \"samples\": [\n          \"A lawyer finds himself in over his head when he gets involved in drug trafficking.\",\n          \"A CIA agent on the ground in Jordan hunts down a powerful terrorist leader while being caught between the unclear intentions of his American supervisors and Jordan Intelligence.\",\n          \"A titan of industry is sent to prison after she's caught insider trading. When she emerges ready to rebrand herself as America's latest sweetheart, not everyone she screwed over is so quick to forgive and forget.\"\n        ],\n        \"semantic_type\": \"\",\n        \"description\": \"\"\n      }\n    },\n    {\n      \"column\": \"Director\",\n      \"properties\": {\n        \"dtype\": \"string\",\n        \"num_unique_values\": 644,\n        \"samples\": [\n          \"Patricia Riggen\",\n          \"Gregory Wilson\",\n          \"Chris McCoy\"\n        ],\n        \"semantic_type\": \"\",\n        \"description\": \"\"\n      }\n    },\n    {\n      \"column\": \"Actors\",\n      \"properties\": {\n        \"dtype\": \"string\",\n        \"num_unique_values\": 996,\n        \"samples\": [\n          \"Adrian Titieni, Maria-Victoria Dragus, Lia Bugnar,Malina Manovici\",\n          \"Madina Nalwanga, David Oyelowo, Lupita Nyong'o, Martin Kabanza\",\n          \"Ry\\u00fbnosuke Kamiki, Mone Kamishiraishi, Ry\\u00f4 Narita, Aoi Yuki\"\n        ],\n        \"semantic_type\": \"\",\n        \"description\": \"\"\n      }\n    },\n    {\n      \"column\": \"Year\",\n      \"properties\": {\n        \"dtype\": \"number\",\n        \"std\": 3,\n        \"min\": 2006,\n        \"max\": 2016,\n        \"num_unique_values\": 11,\n        \"samples\": [\n          2011,\n          2014,\n          2010\n        ],\n        \"semantic_type\": \"\",\n        \"description\": \"\"\n      }\n    },\n    {\n      \"column\": \"Runtime (Minutes)\",\n      \"properties\": {\n        \"dtype\": \"number\",\n        \"std\": 18,\n        \"min\": 66,\n        \"max\": 191,\n        \"num_unique_values\": 94,\n        \"samples\": [\n          106,\n          99,\n          146\n        ],\n        \"semantic_type\": \"\",\n        \"description\": \"\"\n      }\n    },\n    {\n      \"column\": \"Rating\",\n      \"properties\": {\n        \"dtype\": \"number\",\n        \"std\": 0.9454287892779637,\n        \"min\": 1.9,\n        \"max\": 9.0,\n        \"num_unique_values\": 55,\n        \"samples\": [\n          7.4,\n          6.1,\n          4.1\n        ],\n        \"semantic_type\": \"\",\n        \"description\": \"\"\n      }\n    },\n    {\n      \"column\": \"Votes\",\n      \"properties\": {\n        \"dtype\": \"number\",\n        \"std\": 188762,\n        \"min\": 61,\n        \"max\": 1791916,\n        \"num_unique_values\": 997,\n        \"samples\": [\n          214994,\n          4370,\n          23713\n        ],\n        \"semantic_type\": \"\",\n        \"description\": \"\"\n      }\n    },\n    {\n      \"column\": \"Revenue (Millions)\",\n      \"properties\": {\n        \"dtype\": \"number\",\n        \"std\": 100.32031435113176,\n        \"min\": 0.0,\n        \"max\": 936.63,\n        \"num_unique_values\": 814,\n        \"samples\": [\n          89.02,\n          23.23,\n          202.85\n        ],\n        \"semantic_type\": \"\",\n        \"description\": \"\"\n      }\n    },\n    {\n      \"column\": \"Metascore\",\n      \"properties\": {\n        \"dtype\": \"number\",\n        \"std\": 17,\n        \"min\": 11,\n        \"max\": 100,\n        \"num_unique_values\": 85,\n        \"samples\": [\n          22,\n          76,\n          38\n        ],\n        \"semantic_type\": \"\",\n        \"description\": \"\"\n      }\n    }\n  ]\n}"
            }
          },
          "metadata": {},
          "execution_count": 7
        }
      ]
    },
    {
      "cell_type": "markdown",
      "source": [
        "# 2. Check Last 10 Rows of The Dataset"
      ],
      "metadata": {
        "id": "cjZpoPDEJ6pf"
      }
    },
    {
      "cell_type": "code",
      "source": [
        "data.tail(10)"
      ],
      "metadata": {
        "execution": {
          "iopub.status.busy": "2022-10-07T07:43:09.386202Z",
          "iopub.execute_input": "2022-10-07T07:43:09.386594Z",
          "iopub.status.idle": "2022-10-07T07:43:09.410216Z",
          "shell.execute_reply.started": "2022-10-07T07:43:09.386565Z",
          "shell.execute_reply": "2022-10-07T07:43:09.409117Z"
        },
        "trusted": true,
        "id": "6cqJeUhVJ6pg"
      },
      "execution_count": null,
      "outputs": []
    },
    {
      "cell_type": "markdown",
      "source": [
        "# 3. Find Shape of Our Dataset (Number of Rows And Number of Columns)"
      ],
      "metadata": {
        "execution": {
          "iopub.status.busy": "2022-10-07T05:32:37.224157Z",
          "iopub.execute_input": "2022-10-07T05:32:37.22467Z",
          "iopub.status.idle": "2022-10-07T05:32:37.230098Z",
          "shell.execute_reply.started": "2022-10-07T05:32:37.224616Z",
          "shell.execute_reply": "2022-10-07T05:32:37.2287Z"
        },
        "id": "ZYvOSGZxJ6pg"
      }
    },
    {
      "cell_type": "code",
      "source": [
        "data.shape"
      ],
      "metadata": {
        "execution": {
          "iopub.status.busy": "2022-10-07T07:43:09.772209Z",
          "iopub.execute_input": "2022-10-07T07:43:09.773128Z",
          "iopub.status.idle": "2022-10-07T07:43:09.780447Z",
          "shell.execute_reply.started": "2022-10-07T07:43:09.773087Z",
          "shell.execute_reply": "2022-10-07T07:43:09.779039Z"
        },
        "trusted": true,
        "id": "FbHHEF5RJ6ph"
      },
      "execution_count": null,
      "outputs": []
    },
    {
      "cell_type": "code",
      "source": [
        "print('Number of Rows',data.shape[0])\n",
        "print('Number of Columns',data.shape[1])"
      ],
      "metadata": {
        "execution": {
          "iopub.status.busy": "2022-10-07T07:43:09.965106Z",
          "iopub.execute_input": "2022-10-07T07:43:09.965581Z",
          "iopub.status.idle": "2022-10-07T07:43:09.972557Z",
          "shell.execute_reply.started": "2022-10-07T07:43:09.965543Z",
          "shell.execute_reply": "2022-10-07T07:43:09.970959Z"
        },
        "trusted": true,
        "id": "1t_ZGIPRJ6ph"
      },
      "execution_count": null,
      "outputs": []
    },
    {
      "cell_type": "markdown",
      "source": [
        "# 4. Getting Information About Our Dataset Like Total Number Rows, Total Number of Columns, Datatypes of Each Column And Memory Requirement"
      ],
      "metadata": {
        "id": "uRnM1QOyJ6pi"
      }
    },
    {
      "cell_type": "code",
      "source": [
        "data.info()"
      ],
      "metadata": {
        "execution": {
          "iopub.status.busy": "2022-10-07T07:43:10.383636Z",
          "iopub.execute_input": "2022-10-07T07:43:10.384175Z",
          "iopub.status.idle": "2022-10-07T07:43:10.418753Z",
          "shell.execute_reply.started": "2022-10-07T07:43:10.384137Z",
          "shell.execute_reply": "2022-10-07T07:43:10.416854Z"
        },
        "trusted": true,
        "id": "c-OFAkYMJ6pi"
      },
      "execution_count": null,
      "outputs": []
    },
    {
      "cell_type": "markdown",
      "source": [
        "# 5. Check Null Values In The Dataset"
      ],
      "metadata": {
        "id": "NqTX4hsxJ6pj"
      }
    },
    {
      "cell_type": "code",
      "source": [
        "data.isnull().sum()"
      ],
      "metadata": {
        "execution": {
          "iopub.status.busy": "2022-10-07T07:43:10.802322Z",
          "iopub.execute_input": "2022-10-07T07:43:10.803582Z",
          "iopub.status.idle": "2022-10-07T07:43:10.815534Z",
          "shell.execute_reply.started": "2022-10-07T07:43:10.803536Z",
          "shell.execute_reply": "2022-10-07T07:43:10.814186Z"
        },
        "trusted": true,
        "id": "HWGapPzUJ6pj"
      },
      "execution_count": null,
      "outputs": []
    },
    {
      "cell_type": "code",
      "source": [
        "import matplotlib.pyplot as plt\n",
        "import seaborn as sns\n",
        "sns.heatmap(data.isnull())\n",
        "plt.show()"
      ],
      "metadata": {
        "execution": {
          "iopub.status.busy": "2022-10-07T07:43:10.984354Z",
          "iopub.execute_input": "2022-10-07T07:43:10.984805Z",
          "iopub.status.idle": "2022-10-07T07:43:12.195991Z",
          "shell.execute_reply.started": "2022-10-07T07:43:10.984753Z",
          "shell.execute_reply": "2022-10-07T07:43:12.193509Z"
        },
        "trusted": true,
        "id": "FBBisnC8J6pj"
      },
      "execution_count": null,
      "outputs": []
    },
    {
      "cell_type": "markdown",
      "source": [
        "# 6. Drop All The Missing Values"
      ],
      "metadata": {
        "id": "4nwasHTRJ6pj"
      }
    },
    {
      "cell_type": "code",
      "source": [
        "data = data.dropna(axis=0)"
      ],
      "metadata": {
        "execution": {
          "iopub.status.busy": "2022-10-07T07:43:12.19876Z",
          "iopub.execute_input": "2022-10-07T07:43:12.199306Z",
          "iopub.status.idle": "2022-10-07T07:43:12.213065Z",
          "shell.execute_reply.started": "2022-10-07T07:43:12.199255Z",
          "shell.execute_reply": "2022-10-07T07:43:12.211257Z"
        },
        "trusted": true,
        "id": "ioMwDMZlJ6pk"
      },
      "execution_count": null,
      "outputs": []
    },
    {
      "cell_type": "code",
      "source": [
        "sns.heatmap(data.isnull())\n",
        "plt.show()"
      ],
      "metadata": {
        "execution": {
          "iopub.status.busy": "2022-10-07T07:43:12.215002Z",
          "iopub.execute_input": "2022-10-07T07:43:12.215409Z",
          "iopub.status.idle": "2022-10-07T07:43:12.689039Z",
          "shell.execute_reply.started": "2022-10-07T07:43:12.215375Z",
          "shell.execute_reply": "2022-10-07T07:43:12.687569Z"
        },
        "trusted": true,
        "id": "wia_VSZhJ6pk"
      },
      "execution_count": null,
      "outputs": []
    },
    {
      "cell_type": "markdown",
      "source": [
        "# 7. Check For Duplicate Data"
      ],
      "metadata": {
        "id": "vg7V6cXzJ6pk"
      }
    },
    {
      "cell_type": "code",
      "source": [
        "dup_data=data.duplicated().any()\n",
        "print(\"Are there any duplicated values in data?\",dup_data)"
      ],
      "metadata": {
        "execution": {
          "iopub.status.busy": "2022-10-07T07:43:12.692364Z",
          "iopub.execute_input": "2022-10-07T07:43:12.692968Z",
          "iopub.status.idle": "2022-10-07T07:43:12.710813Z",
          "shell.execute_reply.started": "2022-10-07T07:43:12.692908Z",
          "shell.execute_reply": "2022-10-07T07:43:12.709094Z"
        },
        "trusted": true,
        "id": "F-5JVzo4J6pk"
      },
      "execution_count": null,
      "outputs": []
    },
    {
      "cell_type": "markdown",
      "source": [
        "# 8. Get Overall Statistics About The DataFrame"
      ],
      "metadata": {
        "id": "08xshrKKJ6pl"
      }
    },
    {
      "cell_type": "code",
      "source": [
        "data.describe()"
      ],
      "metadata": {
        "execution": {
          "iopub.status.busy": "2022-10-07T07:43:12.71343Z",
          "iopub.execute_input": "2022-10-07T07:43:12.713991Z",
          "iopub.status.idle": "2022-10-07T07:43:12.759699Z",
          "shell.execute_reply.started": "2022-10-07T07:43:12.713939Z",
          "shell.execute_reply": "2022-10-07T07:43:12.757815Z"
        },
        "trusted": true,
        "id": "AjgG8IJcJ6pl"
      },
      "execution_count": null,
      "outputs": []
    },
    {
      "cell_type": "markdown",
      "source": [
        "# 9. Display Title of The Movie Having Runtime >= 180 Minutes"
      ],
      "metadata": {
        "id": "nFf564MOJ6pl"
      }
    },
    {
      "cell_type": "code",
      "source": [
        "data[data['Runtime (Minutes)']>=180]['Title']"
      ],
      "metadata": {
        "execution": {
          "iopub.status.busy": "2022-10-07T07:43:12.782021Z",
          "iopub.execute_input": "2022-10-07T07:43:12.782515Z",
          "iopub.status.idle": "2022-10-07T07:43:12.793056Z",
          "shell.execute_reply.started": "2022-10-07T07:43:12.78248Z",
          "shell.execute_reply": "2022-10-07T07:43:12.791896Z"
        },
        "trusted": true,
        "id": "Nla0tdslJ6pl"
      },
      "execution_count": null,
      "outputs": []
    },
    {
      "cell_type": "markdown",
      "source": [
        "# 10. In Which Year There Was The Highest Voting?"
      ],
      "metadata": {
        "id": "KgJx_HhbJ6pl"
      }
    },
    {
      "cell_type": "code",
      "source": [
        "sns.barplot(x='Year',y='Votes',data=data)\n",
        "plt.title(\"Votes By Year\")\n",
        "plt.show()"
      ],
      "metadata": {
        "execution": {
          "iopub.status.busy": "2022-10-07T07:43:13.155086Z",
          "iopub.execute_input": "2022-10-07T07:43:13.155563Z",
          "iopub.status.idle": "2022-10-07T07:43:13.689262Z",
          "shell.execute_reply.started": "2022-10-07T07:43:13.155525Z",
          "shell.execute_reply": "2022-10-07T07:43:13.687505Z"
        },
        "trusted": true,
        "id": "WJ4PYorvJ6pl"
      },
      "execution_count": null,
      "outputs": []
    },
    {
      "cell_type": "markdown",
      "source": [
        "# 11. In Which Year There Was The Highest Revenue?"
      ],
      "metadata": {
        "id": "Q9qcekxfJ6pl"
      }
    },
    {
      "cell_type": "code",
      "source": [
        "sns.barplot(x='Year',y='Revenue (Millions)',data=data)\n",
        "plt.title(\"Revenue By Year\")\n",
        "plt.show()"
      ],
      "metadata": {
        "execution": {
          "iopub.status.busy": "2022-10-07T07:43:13.691429Z",
          "iopub.execute_input": "2022-10-07T07:43:13.691856Z",
          "iopub.status.idle": "2022-10-07T07:43:14.221061Z",
          "shell.execute_reply.started": "2022-10-07T07:43:13.691823Z",
          "shell.execute_reply": "2022-10-07T07:43:14.219548Z"
        },
        "trusted": true,
        "id": "f7tlEBepJ6pm"
      },
      "execution_count": null,
      "outputs": []
    },
    {
      "cell_type": "markdown",
      "source": [
        "# 12. Find The Average Rating For Each Director"
      ],
      "metadata": {
        "id": "4G9dTbMYJ6pm"
      }
    },
    {
      "cell_type": "code",
      "source": [
        "data.groupby('Director')['Rating'].mean().sort_values(ascending=False)"
      ],
      "metadata": {
        "execution": {
          "iopub.status.busy": "2022-10-07T07:43:14.225439Z",
          "iopub.execute_input": "2022-10-07T07:43:14.225926Z",
          "iopub.status.idle": "2022-10-07T07:43:14.244843Z",
          "shell.execute_reply.started": "2022-10-07T07:43:14.225888Z",
          "shell.execute_reply": "2022-10-07T07:43:14.243065Z"
        },
        "trusted": true,
        "id": "260nOCJ3J6pm"
      },
      "execution_count": null,
      "outputs": []
    },
    {
      "cell_type": "markdown",
      "source": [
        "# 13. Display Top 10 Lengthy Movies Title"
      ],
      "metadata": {
        "id": "pVDXzaINJ6pm"
      }
    },
    {
      "cell_type": "code",
      "source": [
        "le =data.nlargest(10,'Runtime (Minutes)')[['Title','Runtime (Minutes)']]. \\\n",
        "set_index('Title')"
      ],
      "metadata": {
        "execution": {
          "iopub.status.busy": "2022-10-07T07:43:14.459852Z",
          "iopub.execute_input": "2022-10-07T07:43:14.460271Z",
          "iopub.status.idle": "2022-10-07T07:43:14.471158Z",
          "shell.execute_reply.started": "2022-10-07T07:43:14.460237Z",
          "shell.execute_reply": "2022-10-07T07:43:14.469579Z"
        },
        "trusted": true,
        "id": "PhIg0fGkJ6pm"
      },
      "execution_count": null,
      "outputs": []
    },
    {
      "cell_type": "code",
      "source": [
        "sns.barplot(le['Runtime (Minutes)'],y=le.index)\n",
        "plt.title('Top 5 Lengtly Movies')\n",
        "plt.show()"
      ],
      "metadata": {
        "execution": {
          "iopub.status.busy": "2022-10-07T07:43:14.694395Z",
          "iopub.execute_input": "2022-10-07T07:43:14.694855Z",
          "iopub.status.idle": "2022-10-07T07:43:14.982481Z",
          "shell.execute_reply.started": "2022-10-07T07:43:14.694809Z",
          "shell.execute_reply": "2022-10-07T07:43:14.981373Z"
        },
        "trusted": true,
        "id": "M74BJFO8J6pn"
      },
      "execution_count": null,
      "outputs": []
    },
    {
      "cell_type": "markdown",
      "source": [
        "# 14. Display Number of Movies Per Year"
      ],
      "metadata": {
        "id": "jF6kgPi3J6pn"
      }
    },
    {
      "cell_type": "code",
      "source": [
        "sns.countplot(x='Year',data=data)\n",
        "plt.title(\"Number of Movies Per Year\")"
      ],
      "metadata": {
        "execution": {
          "iopub.status.busy": "2022-10-07T07:43:15.14703Z",
          "iopub.execute_input": "2022-10-07T07:43:15.147632Z",
          "iopub.status.idle": "2022-10-07T07:43:15.445278Z",
          "shell.execute_reply.started": "2022-10-07T07:43:15.147588Z",
          "shell.execute_reply": "2022-10-07T07:43:15.443895Z"
        },
        "trusted": true,
        "id": "rh1HgVUhJ6pn"
      },
      "execution_count": null,
      "outputs": []
    },
    {
      "cell_type": "markdown",
      "source": [
        "# 15. Find Most Popular Movie Title (Higest Revenue)"
      ],
      "metadata": {
        "id": "NbTag6uKJ6pn"
      }
    },
    {
      "cell_type": "code",
      "source": [
        "data.columns"
      ],
      "metadata": {
        "execution": {
          "iopub.status.busy": "2022-10-07T07:43:15.592804Z",
          "iopub.execute_input": "2022-10-07T07:43:15.593279Z",
          "iopub.status.idle": "2022-10-07T07:43:15.604182Z",
          "shell.execute_reply.started": "2022-10-07T07:43:15.593242Z",
          "shell.execute_reply": "2022-10-07T07:43:15.602328Z"
        },
        "trusted": true,
        "id": "t_TP__lRJ6pn"
      },
      "execution_count": null,
      "outputs": []
    },
    {
      "cell_type": "code",
      "source": [
        "data[data['Revenue (Millions)'].max() == data['Revenue (Millions)']]['Title']"
      ],
      "metadata": {
        "execution": {
          "iopub.status.busy": "2022-10-07T07:43:54.142574Z",
          "iopub.execute_input": "2022-10-07T07:43:54.144174Z",
          "iopub.status.idle": "2022-10-07T07:43:54.15589Z",
          "shell.execute_reply.started": "2022-10-07T07:43:54.144118Z",
          "shell.execute_reply": "2022-10-07T07:43:54.154567Z"
        },
        "trusted": true,
        "id": "741ENGgmJ6po"
      },
      "execution_count": null,
      "outputs": []
    },
    {
      "cell_type": "markdown",
      "source": [
        "# 16. Display Top 10 Highest Rated Movie Titles And its Directors"
      ],
      "metadata": {
        "id": "3nstk6JnJ6pw"
      }
    },
    {
      "cell_type": "code",
      "source": [
        "top_10=data.nlargest(10,'Rating')[['Title','Rating','Director']].set_index('Title')"
      ],
      "metadata": {
        "execution": {
          "iopub.status.busy": "2022-10-07T07:44:20.756029Z",
          "iopub.execute_input": "2022-10-07T07:44:20.75652Z",
          "iopub.status.idle": "2022-10-07T07:44:20.769115Z",
          "shell.execute_reply.started": "2022-10-07T07:44:20.756482Z",
          "shell.execute_reply": "2022-10-07T07:44:20.767107Z"
        },
        "trusted": true,
        "id": "AOkSgCrMJ6px"
      },
      "execution_count": null,
      "outputs": []
    },
    {
      "cell_type": "code",
      "source": [
        "top_10"
      ],
      "metadata": {
        "execution": {
          "iopub.status.busy": "2022-10-07T07:44:24.991907Z",
          "iopub.execute_input": "2022-10-07T07:44:24.992403Z",
          "iopub.status.idle": "2022-10-07T07:44:25.006332Z",
          "shell.execute_reply.started": "2022-10-07T07:44:24.992363Z",
          "shell.execute_reply": "2022-10-07T07:44:25.005072Z"
        },
        "trusted": true,
        "id": "zrxIanh4J6px"
      },
      "execution_count": null,
      "outputs": []
    },
    {
      "cell_type": "code",
      "source": [
        "sns.barplot(top_10['Rating'],top_10.index)\n",
        "plt.title(\"Display Top 10 Highest Rated Movie Titles\")"
      ],
      "metadata": {
        "execution": {
          "iopub.status.busy": "2022-10-07T07:47:29.485389Z",
          "iopub.execute_input": "2022-10-07T07:47:29.485961Z",
          "iopub.status.idle": "2022-10-07T07:47:29.770291Z",
          "shell.execute_reply.started": "2022-10-07T07:47:29.485921Z",
          "shell.execute_reply": "2022-10-07T07:47:29.768998Z"
        },
        "trusted": true,
        "id": "lu7AFYO4J6px"
      },
      "execution_count": null,
      "outputs": []
    },
    {
      "cell_type": "markdown",
      "source": [
        "# 17. Display Top 10 Highest Revenue Movie Titles"
      ],
      "metadata": {
        "id": "ROaZi6_VJ6px"
      }
    },
    {
      "cell_type": "code",
      "source": [
        "data.columns"
      ],
      "metadata": {
        "execution": {
          "iopub.status.busy": "2022-10-07T07:47:58.466404Z",
          "iopub.execute_input": "2022-10-07T07:47:58.466846Z",
          "iopub.status.idle": "2022-10-07T07:47:58.475546Z",
          "shell.execute_reply.started": "2022-10-07T07:47:58.466813Z",
          "shell.execute_reply": "2022-10-07T07:47:58.47355Z"
        },
        "trusted": true,
        "id": "44lWuL5vJ6px"
      },
      "execution_count": null,
      "outputs": []
    },
    {
      "cell_type": "code",
      "source": [
        "data.sort_values(by='Revenue (Millions)',ascending=False).head(10)"
      ],
      "metadata": {
        "execution": {
          "iopub.status.busy": "2022-10-07T07:48:04.579088Z",
          "iopub.execute_input": "2022-10-07T07:48:04.579617Z",
          "iopub.status.idle": "2022-10-07T07:48:04.6059Z",
          "shell.execute_reply.started": "2022-10-07T07:48:04.579576Z",
          "shell.execute_reply": "2022-10-07T07:48:04.604344Z"
        },
        "trusted": true,
        "id": "oJkEafv6J6px"
      },
      "execution_count": null,
      "outputs": []
    },
    {
      "cell_type": "code",
      "source": [
        "top_10 = data.nlargest(10,'Revenue (Millions)')[['Title','Director','Revenue (Millions)']].set_index('Title')"
      ],
      "metadata": {
        "execution": {
          "iopub.status.busy": "2022-10-07T07:48:15.758015Z",
          "iopub.execute_input": "2022-10-07T07:48:15.758462Z",
          "iopub.status.idle": "2022-10-07T07:48:15.771041Z",
          "shell.execute_reply.started": "2022-10-07T07:48:15.758428Z",
          "shell.execute_reply": "2022-10-07T07:48:15.769383Z"
        },
        "trusted": true,
        "id": "SAxF5qW0J6py"
      },
      "execution_count": null,
      "outputs": []
    },
    {
      "cell_type": "code",
      "source": [
        "sns.barplot(top_10['Revenue (Millions)'],top_10.index)\n",
        "plt.title(\"Display Top 10 Highest Revenue Movie Titles\")\n",
        "plt.show()"
      ],
      "metadata": {
        "execution": {
          "iopub.status.busy": "2022-10-07T07:48:21.948173Z",
          "iopub.execute_input": "2022-10-07T07:48:21.948665Z",
          "iopub.status.idle": "2022-10-07T07:48:22.215979Z",
          "shell.execute_reply.started": "2022-10-07T07:48:21.948629Z",
          "shell.execute_reply": "2022-10-07T07:48:22.214341Z"
        },
        "trusted": true,
        "id": "7LtWGRwXJ6py"
      },
      "execution_count": null,
      "outputs": []
    },
    {
      "cell_type": "markdown",
      "source": [
        "# 18.  Find Average Rating of Movies Year-wise"
      ],
      "metadata": {
        "id": "5-j8eYL0J6py"
      }
    },
    {
      "cell_type": "code",
      "source": [
        "data.columns"
      ],
      "metadata": {
        "execution": {
          "iopub.status.busy": "2022-10-07T07:50:24.983586Z",
          "iopub.execute_input": "2022-10-07T07:50:24.985212Z",
          "iopub.status.idle": "2022-10-07T07:50:24.994743Z",
          "shell.execute_reply.started": "2022-10-07T07:50:24.985163Z",
          "shell.execute_reply": "2022-10-07T07:50:24.993243Z"
        },
        "trusted": true,
        "id": "NRgx5S9WJ6py"
      },
      "execution_count": null,
      "outputs": []
    },
    {
      "cell_type": "code",
      "source": [
        "data1=data.groupby('Year')['Year','Rating'].mean().\\\n",
        "sort_values(by='Rating',ascending=False).set_index('Year')"
      ],
      "metadata": {
        "execution": {
          "iopub.status.busy": "2022-10-07T07:50:34.649936Z",
          "iopub.execute_input": "2022-10-07T07:50:34.650312Z",
          "iopub.status.idle": "2022-10-07T07:50:34.666949Z",
          "shell.execute_reply.started": "2022-10-07T07:50:34.650283Z",
          "shell.execute_reply": "2022-10-07T07:50:34.665469Z"
        },
        "trusted": true,
        "id": "JqIQx_CoJ6py"
      },
      "execution_count": null,
      "outputs": []
    },
    {
      "cell_type": "code",
      "source": [
        "data1"
      ],
      "metadata": {
        "execution": {
          "iopub.status.busy": "2022-10-07T07:50:42.206022Z",
          "iopub.execute_input": "2022-10-07T07:50:42.206518Z",
          "iopub.status.idle": "2022-10-07T07:50:42.221141Z",
          "shell.execute_reply.started": "2022-10-07T07:50:42.206476Z",
          "shell.execute_reply": "2022-10-07T07:50:42.219454Z"
        },
        "trusted": true,
        "id": "GnZBVko_J6py"
      },
      "execution_count": null,
      "outputs": []
    },
    {
      "cell_type": "code",
      "source": [
        "plt.figure(figsize=(10,5))\n",
        "sns.barplot(data1.index,data1['Rating'])\n",
        "plt.show()"
      ],
      "metadata": {
        "execution": {
          "iopub.status.busy": "2022-10-07T07:56:13.053386Z",
          "iopub.execute_input": "2022-10-07T07:56:13.053935Z",
          "iopub.status.idle": "2022-10-07T07:56:13.332583Z",
          "shell.execute_reply.started": "2022-10-07T07:56:13.053892Z",
          "shell.execute_reply": "2022-10-07T07:56:13.33081Z"
        },
        "trusted": true,
        "id": "LbWf-9G2J6py"
      },
      "execution_count": null,
      "outputs": []
    },
    {
      "cell_type": "markdown",
      "source": [
        "# 19. Does Rating Affect The Revenue?"
      ],
      "metadata": {
        "id": "cyWEAwSFJ6py"
      }
    },
    {
      "cell_type": "code",
      "source": [
        "sns.scatterplot(x='Rating',y='Revenue (Millions)',data=data)"
      ],
      "metadata": {
        "execution": {
          "iopub.status.busy": "2022-10-07T08:02:54.773564Z",
          "iopub.execute_input": "2022-10-07T08:02:54.774832Z",
          "iopub.status.idle": "2022-10-07T08:02:54.990111Z",
          "shell.execute_reply.started": "2022-10-07T08:02:54.774761Z",
          "shell.execute_reply": "2022-10-07T08:02:54.988664Z"
        },
        "trusted": true,
        "id": "7f_ESDCVJ6pz"
      },
      "execution_count": null,
      "outputs": []
    },
    {
      "cell_type": "markdown",
      "source": [
        "# Answer : Yes"
      ],
      "metadata": {
        "execution": {
          "iopub.status.busy": "2022-10-07T08:03:20.504347Z",
          "iopub.execute_input": "2022-10-07T08:03:20.504935Z",
          "iopub.status.idle": "2022-10-07T08:03:20.562599Z",
          "shell.execute_reply.started": "2022-10-07T08:03:20.504898Z",
          "shell.execute_reply": "2022-10-07T08:03:20.560512Z"
        },
        "id": "giIlqpKIJ6pz"
      }
    },
    {
      "cell_type": "markdown",
      "source": [
        "# 20. Classify Movies Based on Ratings [Good,Better and Best]"
      ],
      "metadata": {
        "id": "-PgPoT1pJ6pz"
      }
    },
    {
      "cell_type": "code",
      "source": [
        "data.columns"
      ],
      "metadata": {
        "execution": {
          "iopub.status.busy": "2022-10-07T08:04:15.559477Z",
          "iopub.execute_input": "2022-10-07T08:04:15.560182Z",
          "iopub.status.idle": "2022-10-07T08:04:15.570724Z",
          "shell.execute_reply.started": "2022-10-07T08:04:15.560122Z",
          "shell.execute_reply": "2022-10-07T08:04:15.56931Z"
        },
        "trusted": true,
        "id": "UIIUqoAOJ6pz"
      },
      "execution_count": null,
      "outputs": []
    },
    {
      "cell_type": "code",
      "source": [
        "def rating(rating):\n",
        "    if rating>=7.0:\n",
        "        return 'Excellent'\n",
        "    elif rating>=6.0:\n",
        "        return 'Good'\n",
        "    else:\n",
        "        return 'Average'"
      ],
      "metadata": {
        "execution": {
          "iopub.status.busy": "2022-10-07T08:04:40.534622Z",
          "iopub.execute_input": "2022-10-07T08:04:40.535833Z",
          "iopub.status.idle": "2022-10-07T08:04:40.542749Z",
          "shell.execute_reply.started": "2022-10-07T08:04:40.535761Z",
          "shell.execute_reply": "2022-10-07T08:04:40.541212Z"
        },
        "trusted": true,
        "id": "42JSFBk5J6pz"
      },
      "execution_count": null,
      "outputs": []
    },
    {
      "cell_type": "code",
      "source": [
        "data['rating_cat']=data['Rating'].apply(rating)"
      ],
      "metadata": {
        "execution": {
          "iopub.status.busy": "2022-10-07T08:04:46.527082Z",
          "iopub.execute_input": "2022-10-07T08:04:46.527732Z",
          "iopub.status.idle": "2022-10-07T08:04:46.535542Z",
          "shell.execute_reply.started": "2022-10-07T08:04:46.527694Z",
          "shell.execute_reply": "2022-10-07T08:04:46.533924Z"
        },
        "trusted": true,
        "id": "D1QV5HGiJ6pz"
      },
      "execution_count": null,
      "outputs": []
    },
    {
      "cell_type": "code",
      "source": [
        "data.head(1)"
      ],
      "metadata": {
        "execution": {
          "iopub.status.busy": "2022-10-07T08:04:52.619701Z",
          "iopub.execute_input": "2022-10-07T08:04:52.62047Z",
          "iopub.status.idle": "2022-10-07T08:04:52.643487Z",
          "shell.execute_reply.started": "2022-10-07T08:04:52.620423Z",
          "shell.execute_reply": "2022-10-07T08:04:52.642461Z"
        },
        "trusted": true,
        "id": "-sSVZeTWJ6p0"
      },
      "execution_count": null,
      "outputs": []
    },
    {
      "cell_type": "markdown",
      "source": [
        "# 21. Count Number of Action Movies"
      ],
      "metadata": {
        "id": "HMvzCOvOJ6p0"
      }
    },
    {
      "cell_type": "code",
      "source": [
        "list1=[]\n",
        "for value in data['Genre']:\n",
        "    list1.append(value.split(','))"
      ],
      "metadata": {
        "execution": {
          "iopub.status.busy": "2022-10-07T08:05:27.981906Z",
          "iopub.execute_input": "2022-10-07T08:05:27.982431Z",
          "iopub.status.idle": "2022-10-07T08:05:27.989954Z",
          "shell.execute_reply.started": "2022-10-07T08:05:27.98239Z",
          "shell.execute_reply": "2022-10-07T08:05:27.988725Z"
        },
        "trusted": true,
        "id": "-2R_3ZUEJ6p0"
      },
      "execution_count": 8,
      "outputs": []
    },
    {
      "cell_type": "code",
      "source": [
        "data['temp']=list1"
      ],
      "metadata": {
        "execution": {
          "iopub.status.busy": "2022-10-07T08:05:33.841197Z",
          "iopub.execute_input": "2022-10-07T08:05:33.84164Z",
          "iopub.status.idle": "2022-10-07T08:05:33.849647Z",
          "shell.execute_reply.started": "2022-10-07T08:05:33.841606Z",
          "shell.execute_reply": "2022-10-07T08:05:33.848249Z"
        },
        "trusted": true,
        "id": "yEB-XlJIJ6p0"
      },
      "execution_count": 9,
      "outputs": []
    },
    {
      "cell_type": "code",
      "source": [
        "genre=input(\"Enter Genre you want to count : \").title()\n",
        "count=0\n",
        "for value in data['temp']:\n",
        "    if genre in value:\n",
        "        count=count+1\n",
        "print(\"Total Count is\",count)"
      ],
      "metadata": {
        "execution": {
          "iopub.status.busy": "2022-10-07T08:05:41.69947Z",
          "iopub.execute_input": "2022-10-07T08:05:41.699981Z",
          "iopub.status.idle": "2022-10-07T08:05:59.811213Z",
          "shell.execute_reply.started": "2022-10-07T08:05:41.699943Z",
          "shell.execute_reply": "2022-10-07T08:05:59.810135Z"
        },
        "trusted": true,
        "id": "aJWoK5QDJ6p0"
      },
      "execution_count": null,
      "outputs": []
    },
    {
      "cell_type": "markdown",
      "source": [
        "# OR"
      ],
      "metadata": {
        "id": "ajr4iI_4J6p0"
      }
    },
    {
      "cell_type": "code",
      "source": [
        "len(data[data['Genre'].str.contains('action',case=False)])"
      ],
      "metadata": {
        "execution": {
          "iopub.status.busy": "2022-10-07T08:06:23.98736Z",
          "iopub.execute_input": "2022-10-07T08:06:23.987806Z",
          "iopub.status.idle": "2022-10-07T08:06:24.000377Z",
          "shell.execute_reply.started": "2022-10-07T08:06:23.987745Z",
          "shell.execute_reply": "2022-10-07T08:06:23.999005Z"
        },
        "trusted": true,
        "id": "hOeBCqp2J6p0"
      },
      "execution_count": null,
      "outputs": []
    },
    {
      "cell_type": "code",
      "source": [],
      "metadata": {
        "id": "fG53-HxXJ6p0"
      },
      "execution_count": null,
      "outputs": []
    }
  ]
}